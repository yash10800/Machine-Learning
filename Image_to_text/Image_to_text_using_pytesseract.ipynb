{
 "cells": [
  {
   "cell_type": "code",
   "execution_count": 1,
   "metadata": {
    "tags": []
   },
   "outputs": [
    {
     "output_type": "stream",
     "name": "stdout",
     "text": "text present in images: Batacteila\n\nEXCUSE ME.\nI FOUND SOMETHING UNDER MY SHOES\nOH ITS YOUR ATTITUDE.\n\nWWW .MMPPICTURE.CO.IN\nB 357 518 466 678 0\na 465 518 530 678 0\nt 529 518 579 678 0\na 578 518 643 678 0\nc 642 518 707 678 0\nt 357 518 1056 678 0\ne 738 518 852 678 0\ni 851 518 949 678 0\nl 948 518 997 678 0\na 996 518 1056 678 0\nE 647 460 676 501 0\nX 677 460 716 501 0\nC 718 460 750 501 0\nU 755 460 794 501 0\nS 798 460 823 501 0\nE 828 460 857 501 0\nM 872 460 921 501 0\nE 900 459 932 501 0\n. 925 459 968 501 0\nI 283 386 298 426 0\nF 314 385 381 427 0\nO 384 385 424 426 0\nU 405 385 437 427 0\nN 428 386 468 426 0\nD 471 386 507 426 0\nS 523 385 589 427 0\nO 573 385 610 427 0\nM 593 386 642 426 0\nE 647 386 676 426 0\nT 678 386 711 426 0\nH 713 386 753 426 0\nI 757 386 772 426 0\nN 776 386 816 426 0\nG 821 385 858 427 0\nU 871 385 910 426 0\nN 914 386 954 426 0\nD 958 386 993 426 0\nE 997 386 1026 426 0\nR 1029 386 1063 426 0\nM 1076 386 1126 426 0\nY 1128 386 1166 426 0\nS 1181 385 1206 427 0\nH 1211 386 1250 426 0\nO 1255 385 1291 427 0\nE 1296 386 1325 426 0\nS 1329 385 1354 427 0\nO 454 310 489 352 0\nH 494 311 533 351 0\nI 549 311 564 351 0\nT 567 311 600 351 0\nS 604 310 629 352 0\nY 643 311 681 351 0\nO 684 310 720 352 0\nU 724 310 763 351 0\nR 767 311 800 351 0\nA 811 311 853 351 0\nT 853 311 886 351 0\nT 887 311 920 351 0\nI 922 311 937 351 0\nT 940 311 973 351 0\nU 975 310 1014 351 0\nD 1006 310 1033 351 0\nE 1018 311 1054 351 0\n. 1057 310 1100 351 0\nW 544 239 574 261 0\nW 578 239 608 261 0\nW 612 239 632 261 0\n. 648 239 650 241 0\nM 658 240 681 261 0\nM 686 240 709 261 0\nP 704 239 724 261 0\nP 717 240 749 261 0\nI 756 240 757 261 0\nC 763 239 779 261 0\nT 784 240 799 261 0\nU 805 239 822 261 0\nR 830 239 843 261 0\nE 852 239 863 261 0\n. 859 239 876 261 0\nC 875 239 891 261 0\nO 896 239 916 261 0\n. 921 239 923 241 0\nI 931 239 932 261 0\nN 941 240 958 261 0\nEXCUSE ME.\nI FOUND SOMETHING UNDER MY SHOES\nOH ITS YOUR ATTITUDE.\n\nWWW.MMPPICTURE.CO.IN\n"
    }
   ],
   "source": [
    "import pytesseract\n",
    "from PIL import Image\n",
    "import cv2\n",
    "\n",
    "\n",
    "pytesseract.pytesseract.tesseract_cmd = r'C:\\Program Files\\Tesseract-OCR\\tesseract.exe'\n",
    "value=Image.open(\"img3.jpg\")\n",
    "text = pytesseract.image_to_string(value, config='')    \n",
    "print(\"text present in images:\",text)\n",
    "\n",
    "\n",
    "print(pytesseract.image_to_boxes(Image.open('img3.jpg')))\n",
    "\n",
    "\n",
    "\n",
    "img_cv = cv2.imread(r'img3.jpg')\n",
    "\n",
    "# By default OpenCV stores images in BGR format and since pytesseract assumes RGB format,\n",
    "# we need to convert from BGR to RGB format/mode:\n",
    "img_rgb = cv2.cvtColor(img_cv, cv2.COLOR_BGR2RGB)\n",
    "print(pytesseract.image_to_string(img_rgb))"
   ]
  },
  {
   "cell_type": "code",
   "execution_count": 12,
   "metadata": {},
   "outputs": [
    {
     "ename": "ImportError",
     "evalue": "cannot import name 'wrapper' from 'tabula' (C:\\Users\\yp743\\anaconda3\\lib\\site-packages\\tabula\\__init__.py)",
     "output_type": "error",
     "traceback": [
      "\u001b[1;31m---------------------------------------------------------------------------\u001b[0m",
      "\u001b[1;31mImportError\u001b[0m                               Traceback (most recent call last)",
      "\u001b[1;32m<ipython-input-12-6efab0f7c78d>\u001b[0m in \u001b[0;36m<module>\u001b[1;34m\u001b[0m\n\u001b[1;32m----> 1\u001b[1;33m \u001b[1;32mfrom\u001b[0m \u001b[0mtabula\u001b[0m \u001b[1;32mimport\u001b[0m \u001b[0mwrapper\u001b[0m\u001b[1;33m\u001b[0m\u001b[1;33m\u001b[0m\u001b[0m\n\u001b[0m\u001b[0;32m      2\u001b[0m \u001b[1;33m\u001b[0m\u001b[0m\n\u001b[0;32m      3\u001b[0m \u001b[1;33m\u001b[0m\u001b[0m\n\u001b[0;32m      4\u001b[0m \u001b[1;31m# Read pdf into list of DataFrame\u001b[0m\u001b[1;33m\u001b[0m\u001b[1;33m\u001b[0m\u001b[1;33m\u001b[0m\u001b[0m\n\u001b[0;32m      5\u001b[0m \u001b[0mdf\u001b[0m \u001b[1;33m=\u001b[0m \u001b[0mwrapper\u001b[0m\u001b[1;33m.\u001b[0m\u001b[0mread_pdf\u001b[0m\u001b[1;33m(\u001b[0m\u001b[1;34m\"test.pdf\"\u001b[0m\u001b[1;33m,\u001b[0m \u001b[0mpages\u001b[0m\u001b[1;33m=\u001b[0m\u001b[1;34m'all'\u001b[0m\u001b[1;33m)\u001b[0m\u001b[1;33m\u001b[0m\u001b[1;33m\u001b[0m\u001b[0m\n",
      "\u001b[1;31mImportError\u001b[0m: cannot import name 'wrapper' from 'tabula' (C:\\Users\\yp743\\anaconda3\\lib\\site-packages\\tabula\\__init__.py)"
     ]
    }
   ],
   "source": [
    "from tabula import wrapper\n",
    "\n",
    "\n",
    "# Read pdf into list of DataFrame\n",
    "df = wrapper.read_pdf(\"test.pdf\", pages='all')\n",
    "\n",
    "# Read remote pdf into list of DataFrame\n",
    "df2 = tabula.read_pdf(\"https://github.com/tabulapdf/tabula-java/raw/master/src/test/resources/technology/tabula/arabic.pdf\")\n",
    "\n",
    "# convert PDF into CSV file\n",
    "tabula.convert_into(\"test.pdf\", \"output.csv\", output_format=\"csv\", pages='all')\n",
    "\n",
    "# convert all PDFs in a directory"
   ]
  }
 ],
 "metadata": {
  "kernelspec": {
   "display_name": "Python 3.8.5 32-bit",
   "language": "python",
   "name": "python_defaultSpec_1597375336948"
  },
  "language_info": {
   "codemirror_mode": {
    "name": "ipython",
    "version": 3
   },
   "file_extension": ".py",
   "mimetype": "text/x-python",
   "name": "python",
   "nbconvert_exporter": "python",
   "pygments_lexer": "ipython3",
   "version": "3.8.3"
  }
 },
 "nbformat": 4,
 "nbformat_minor": 4
}